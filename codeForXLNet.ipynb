{
 "cells": [
  {
   "cell_type": "markdown",
   "id": "84ae941e",
   "metadata": {},
   "source": [
    "hepsini maks uzunluk yapacağına bölüm bölüm ayırarak uzunluk halletme kodu vardı onu yap süre azalsın."
   ]
  },
  {
   "cell_type": "code",
   "execution_count": 27,
   "id": "64eae275",
   "metadata": {},
   "outputs": [],
   "source": [
    "import numpy as np \n",
    "import pandas as pd \n",
    "import tensorflow as tf\n",
    "import sklearn\n",
    "from tqdm import tqdm\n",
    "df = pd.read_csv('moviecopy.csv')"
   ]
  },
  {
   "cell_type": "code",
   "execution_count": 28,
   "id": "b21512d2",
   "metadata": {},
   "outputs": [
    {
     "name": "stdout",
     "output_type": "stream",
     "text": [
      "0\n",
      "0\n"
     ]
    },
    {
     "data": {
      "text/html": [
       "<div>\n",
       "<style scoped>\n",
       "    .dataframe tbody tr th:only-of-type {\n",
       "        vertical-align: middle;\n",
       "    }\n",
       "\n",
       "    .dataframe tbody tr th {\n",
       "        vertical-align: top;\n",
       "    }\n",
       "\n",
       "    .dataframe thead th {\n",
       "        text-align: right;\n",
       "    }\n",
       "</style>\n",
       "<table border=\"1\" class=\"dataframe\">\n",
       "  <thead>\n",
       "    <tr style=\"text-align: right;\">\n",
       "      <th></th>\n",
       "      <th>text</th>\n",
       "      <th>label</th>\n",
       "    </tr>\n",
       "  </thead>\n",
       "  <tbody>\n",
       "    <tr>\n",
       "      <th>0</th>\n",
       "      <td>I grew up (b. 1965) watching and loving the Th...</td>\n",
       "      <td>0</td>\n",
       "    </tr>\n",
       "    <tr>\n",
       "      <th>1</th>\n",
       "      <td>When I put this movie in my DVD player, and sa...</td>\n",
       "      <td>0</td>\n",
       "    </tr>\n",
       "    <tr>\n",
       "      <th>2</th>\n",
       "      <td>Why do people who do not know what a particula...</td>\n",
       "      <td>0</td>\n",
       "    </tr>\n",
       "    <tr>\n",
       "      <th>3</th>\n",
       "      <td>Even though I have great interest in Biblical ...</td>\n",
       "      <td>0</td>\n",
       "    </tr>\n",
       "    <tr>\n",
       "      <th>4</th>\n",
       "      <td>Im a die hard Dads Army fan and nothing will e...</td>\n",
       "      <td>1</td>\n",
       "    </tr>\n",
       "  </tbody>\n",
       "</table>\n",
       "</div>"
      ],
      "text/plain": [
       "                                                text  label\n",
       "0  I grew up (b. 1965) watching and loving the Th...      0\n",
       "1  When I put this movie in my DVD player, and sa...      0\n",
       "2  Why do people who do not know what a particula...      0\n",
       "3  Even though I have great interest in Biblical ...      0\n",
       "4  Im a die hard Dads Army fan and nothing will e...      1"
      ]
     },
     "execution_count": 28,
     "metadata": {},
     "output_type": "execute_result"
    }
   ],
   "source": [
    "df.isnull().sum()\n",
    "#0 null so no need to clear null\n",
    "print(df.duplicated().sum())\n",
    "#418 duplicated, no we need to clear duplicates\n",
    "df=df.drop_duplicates() \n",
    "print(df.duplicated().sum())\n",
    "#duplicates are cleared\n",
    "df.head()"
   ]
  },
  {
   "cell_type": "code",
   "execution_count": 29,
   "id": "07612b79",
   "metadata": {},
   "outputs": [
    {
     "data": {
      "text/html": [
       "<div>\n",
       "<style scoped>\n",
       "    .dataframe tbody tr th:only-of-type {\n",
       "        vertical-align: middle;\n",
       "    }\n",
       "\n",
       "    .dataframe tbody tr th {\n",
       "        vertical-align: top;\n",
       "    }\n",
       "\n",
       "    .dataframe thead th {\n",
       "        text-align: right;\n",
       "    }\n",
       "</style>\n",
       "<table border=\"1\" class=\"dataframe\">\n",
       "  <thead>\n",
       "    <tr style=\"text-align: right;\">\n",
       "      <th></th>\n",
       "      <th>text</th>\n",
       "      <th>label</th>\n",
       "    </tr>\n",
       "  </thead>\n",
       "  <tbody>\n",
       "    <tr>\n",
       "      <th>0</th>\n",
       "      <td>i grew up  b  1965  watching and loving the th...</td>\n",
       "      <td>0</td>\n",
       "    </tr>\n",
       "    <tr>\n",
       "      <th>1</th>\n",
       "      <td>when i put this movie in my dvd player  and sa...</td>\n",
       "      <td>0</td>\n",
       "    </tr>\n",
       "    <tr>\n",
       "      <th>2</th>\n",
       "      <td>why do people who do not know what a particula...</td>\n",
       "      <td>0</td>\n",
       "    </tr>\n",
       "    <tr>\n",
       "      <th>3</th>\n",
       "      <td>even though i have great interest in biblical ...</td>\n",
       "      <td>0</td>\n",
       "    </tr>\n",
       "    <tr>\n",
       "      <th>4</th>\n",
       "      <td>im a die hard dads army fan and nothing will e...</td>\n",
       "      <td>1</td>\n",
       "    </tr>\n",
       "  </tbody>\n",
       "</table>\n",
       "</div>"
      ],
      "text/plain": [
       "                                                text  label\n",
       "0  i grew up  b  1965  watching and loving the th...      0\n",
       "1  when i put this movie in my dvd player  and sa...      0\n",
       "2  why do people who do not know what a particula...      0\n",
       "3  even though i have great interest in biblical ...      0\n",
       "4  im a die hard dads army fan and nothing will e...      1"
      ]
     },
     "execution_count": 29,
     "metadata": {},
     "output_type": "execute_result"
    }
   ],
   "source": [
    "import re\n",
    "def stringClear(text):\n",
    "    cleanText = re.sub(r'[!,.\"\"?''()]',' ',text)\n",
    "    return cleanText\n",
    "\n",
    "df['text'] = df['text'].apply(stringClear)\n",
    "df['text'] = df['text'].apply(lambda x: x.lower())\n",
    "df.head()"
   ]
  },
  {
   "cell_type": "code",
   "execution_count": 30,
   "id": "8d8fde40",
   "metadata": {},
   "outputs": [
    {
     "name": "stderr",
     "output_type": "stream",
     "text": [
      "[nltk_data] Downloading package stopwords to\n",
      "[nltk_data]     /Users/eceokutan/nltk_data...\n",
      "[nltk_data]   Package stopwords is already up-to-date!\n"
     ]
    },
    {
     "data": {
      "text/html": [
       "<div>\n",
       "<style scoped>\n",
       "    .dataframe tbody tr th:only-of-type {\n",
       "        vertical-align: middle;\n",
       "    }\n",
       "\n",
       "    .dataframe tbody tr th {\n",
       "        vertical-align: top;\n",
       "    }\n",
       "\n",
       "    .dataframe thead th {\n",
       "        text-align: right;\n",
       "    }\n",
       "</style>\n",
       "<table border=\"1\" class=\"dataframe\">\n",
       "  <thead>\n",
       "    <tr style=\"text-align: right;\">\n",
       "      <th></th>\n",
       "      <th>text</th>\n",
       "      <th>label</th>\n",
       "    </tr>\n",
       "  </thead>\n",
       "  <tbody>\n",
       "    <tr>\n",
       "      <th>0</th>\n",
       "      <td>grew b 1965 watching loving thunderbirds mates...</td>\n",
       "      <td>0</td>\n",
       "    </tr>\n",
       "    <tr>\n",
       "      <th>1</th>\n",
       "      <td>put movie dvd player sat coke chips expectatio...</td>\n",
       "      <td>0</td>\n",
       "    </tr>\n",
       "    <tr>\n",
       "      <th>2</th>\n",
       "      <td>people know particular time past like feel nee...</td>\n",
       "      <td>0</td>\n",
       "    </tr>\n",
       "    <tr>\n",
       "      <th>3</th>\n",
       "      <td>even though great interest biblical movies bor...</td>\n",
       "      <td>0</td>\n",
       "    </tr>\n",
       "    <tr>\n",
       "      <th>4</th>\n",
       "      <td>im die hard dads army fan nothing ever change ...</td>\n",
       "      <td>1</td>\n",
       "    </tr>\n",
       "    <tr>\n",
       "      <th>5</th>\n",
       "      <td>terrible movie everyone said made laugh cameo ...</td>\n",
       "      <td>0</td>\n",
       "    </tr>\n",
       "    <tr>\n",
       "      <th>6</th>\n",
       "      <td>finally watched shocking movie last night dist...</td>\n",
       "      <td>1</td>\n",
       "    </tr>\n",
       "    <tr>\n",
       "      <th>7</th>\n",
       "      <td>caught film azn cable sounded like would good ...</td>\n",
       "      <td>0</td>\n",
       "    </tr>\n",
       "    <tr>\n",
       "      <th>8</th>\n",
       "      <td>may remake 1987 autumn's tale eleven years dir...</td>\n",
       "      <td>1</td>\n",
       "    </tr>\n",
       "    <tr>\n",
       "      <th>9</th>\n",
       "      <td>super ex girlfriend turned pleasant surprise r...</td>\n",
       "      <td>1</td>\n",
       "    </tr>\n",
       "  </tbody>\n",
       "</table>\n",
       "</div>"
      ],
      "text/plain": [
       "                                                text  label\n",
       "0  grew b 1965 watching loving thunderbirds mates...      0\n",
       "1  put movie dvd player sat coke chips expectatio...      0\n",
       "2  people know particular time past like feel nee...      0\n",
       "3  even though great interest biblical movies bor...      0\n",
       "4  im die hard dads army fan nothing ever change ...      1\n",
       "5  terrible movie everyone said made laugh cameo ...      0\n",
       "6  finally watched shocking movie last night dist...      1\n",
       "7  caught film azn cable sounded like would good ...      0\n",
       "8  may remake 1987 autumn's tale eleven years dir...      1\n",
       "9  super ex girlfriend turned pleasant surprise r...      1"
      ]
     },
     "execution_count": 30,
     "metadata": {},
     "output_type": "execute_result"
    }
   ],
   "source": [
    "import nltk\n",
    "nltk.download('stopwords')\n",
    "from nltk.corpus import stopwords\n",
    "stopWordList = stopwords.words(\"english\")\n",
    "\n",
    "df['text'] = df['text'].apply(lambda x: [item for item in x.split() if item not in stopWordList]).apply(lambda x:\" \".join(x))\n",
    "#unnecessary words are eliminated\n",
    "df.head(10)"
   ]
  },
  {
   "cell_type": "code",
   "execution_count": 31,
   "id": "bc1f5a45",
   "metadata": {},
   "outputs": [],
   "source": [
    "\n",
    "def catAsNum(val):\n",
    "    if val==\"positive\":\n",
    "        return 1\n",
    "    else:\n",
    "        return 0\n",
    "#df['label']  =  df['label'].apply(catAsNum)"
   ]
  },
  {
   "cell_type": "code",
   "execution_count": 32,
   "id": "33b7d4fd",
   "metadata": {},
   "outputs": [],
   "source": [
    "x = df[\"text\"].values\n",
    "y = df[\"label\"].values"
   ]
  },
  {
   "cell_type": "code",
   "execution_count": 33,
   "id": "23ed02b0",
   "metadata": {},
   "outputs": [
    {
     "name": "stdout",
     "output_type": "stream",
     "text": [
      "(799,)\n",
      "(200,)\n",
      "(799,)\n",
      "(200,)\n"
     ]
    }
   ],
   "source": [
    "from sklearn.model_selection import train_test_split\n",
    "x_train,x_test,y_train,y_test = train_test_split(x,y,test_size=0.2) \n",
    "print(x_train.shape)\n",
    "print(x_test.shape)\n",
    "print(y_train.shape)\n",
    "print(y_test.shape)\n"
   ]
  },
  {
   "cell_type": "code",
   "execution_count": 34,
   "id": "ead9516e",
   "metadata": {},
   "outputs": [
    {
     "name": "stderr",
     "output_type": "stream",
     "text": [
      "Asking to truncate to max_length but no maximum length is provided and the model has no predefined maximum length. Default to no truncation.\n"
     ]
    }
   ],
   "source": [
    "from transformers import XLNetTokenizer\n",
    "tokenizer = XLNetTokenizer.from_pretrained(\"xlnet-base-cased\")\n",
    "\n",
    "train_encodings = tokenizer(list(x_train), padding = True, truncation=True)\n",
    "test_encodings = tokenizer(list(x_test), padding = True, truncation=True)\n",
    "#padding = \"max_length\", truncation=True\n",
    "BATCHSIZE = 64\n",
    "\n",
    "train_dataset = tf.data.Dataset.from_tensor_slices((\n",
    "    dict(train_encodings),\n",
    "    y_train\n",
    ")).batch(BATCHSIZE)\n",
    "\n",
    "test_dataset = tf.data.Dataset.from_tensor_slices((\n",
    "    dict(test_encodings),\n",
    "    y_test\n",
    ")).batch(BATCHSIZE)"
   ]
  },
  {
   "cell_type": "code",
   "execution_count": 35,
   "id": "f8293b91",
   "metadata": {},
   "outputs": [
    {
     "name": "stdout",
     "output_type": "stream",
     "text": [
      "{'input_ids': <tf.Tensor: shape=(64, 887), dtype=int32, numpy=\n",
      "array([[   5,    5,    5, ...,   23,    4,    3],\n",
      "       [   5,    5,    5, ...,  809,    4,    3],\n",
      "       [   5,    5,    5, ...,  264,    4,    3],\n",
      "       ...,\n",
      "       [   5,    5,    5, ..., 4412,    4,    3],\n",
      "       [   5,    5,    5, ...,  937,    4,    3],\n",
      "       [   5,    5,    5, ..., 2873,    4,    3]], dtype=int32)>, 'token_type_ids': <tf.Tensor: shape=(64, 887), dtype=int32, numpy=\n",
      "array([[3, 3, 3, ..., 0, 0, 2],\n",
      "       [3, 3, 3, ..., 0, 0, 2],\n",
      "       [3, 3, 3, ..., 0, 0, 2],\n",
      "       ...,\n",
      "       [3, 3, 3, ..., 0, 0, 2],\n",
      "       [3, 3, 3, ..., 0, 0, 2],\n",
      "       [3, 3, 3, ..., 0, 0, 2]], dtype=int32)>, 'attention_mask': <tf.Tensor: shape=(64, 887), dtype=int32, numpy=\n",
      "array([[0, 0, 0, ..., 1, 1, 1],\n",
      "       [0, 0, 0, ..., 1, 1, 1],\n",
      "       [0, 0, 0, ..., 1, 1, 1],\n",
      "       ...,\n",
      "       [0, 0, 0, ..., 1, 1, 1],\n",
      "       [0, 0, 0, ..., 1, 1, 1],\n",
      "       [0, 0, 0, ..., 1, 1, 1]], dtype=int32)>} tf.Tensor(\n",
      "[1 0 0 1 1 1 0 1 0 1 0 0 0 0 0 0 0 0 1 0 1 1 0 1 0 1 0 1 1 1 0 1 0 1 1 0 1\n",
      " 1 1 1 1 1 1 0 1 0 0 0 0 0 0 0 0 0 0 0 1 0 0 0 0 1 1 1], shape=(64,), dtype=int64)\n",
      "{'input_ids': <tf.Tensor: shape=(64, 887), dtype=int32, numpy=\n",
      "array([[    5,     5,     5, ...,  1432,     4,     3],\n",
      "       [    5,     5,     5, ...,  2053,     4,     3],\n",
      "       [    5,     5,     5, ...,  3466,     4,     3],\n",
      "       ...,\n",
      "       [    5,     5,     5, ..., 18492,     4,     3],\n",
      "       [    5,     5,     5, ..., 17788,     4,     3],\n",
      "       [    5,     5,     5, ...,  4949,     4,     3]], dtype=int32)>, 'token_type_ids': <tf.Tensor: shape=(64, 887), dtype=int32, numpy=\n",
      "array([[3, 3, 3, ..., 0, 0, 2],\n",
      "       [3, 3, 3, ..., 0, 0, 2],\n",
      "       [3, 3, 3, ..., 0, 0, 2],\n",
      "       ...,\n",
      "       [3, 3, 3, ..., 0, 0, 2],\n",
      "       [3, 3, 3, ..., 0, 0, 2],\n",
      "       [3, 3, 3, ..., 0, 0, 2]], dtype=int32)>, 'attention_mask': <tf.Tensor: shape=(64, 887), dtype=int32, numpy=\n",
      "array([[0, 0, 0, ..., 1, 1, 1],\n",
      "       [0, 0, 0, ..., 1, 1, 1],\n",
      "       [0, 0, 0, ..., 1, 1, 1],\n",
      "       ...,\n",
      "       [0, 0, 0, ..., 1, 1, 1],\n",
      "       [0, 0, 0, ..., 1, 1, 1],\n",
      "       [0, 0, 0, ..., 1, 1, 1]], dtype=int32)>} tf.Tensor(\n",
      "[1 0 1 0 0 0 0 0 1 0 1 1 1 0 1 1 0 1 1 1 1 1 1 1 1 0 1 0 1 1 0 1 1 0 1 1 0\n",
      " 0 0 0 1 1 0 0 0 1 0 0 1 1 1 1 0 1 0 0 1 1 0 1 0 0 1 1], shape=(64,), dtype=int64)\n",
      "{'input_ids': <tf.Tensor: shape=(64, 887), dtype=int32, numpy=\n",
      "array([[   5,    5,    5, ..., 1542,    4,    3],\n",
      "       [   5,    5,    5, ..., 2441,    4,    3],\n",
      "       [   5,    5,    5, ..., 1035,    4,    3],\n",
      "       ...,\n",
      "       [   5,    5,    5, ..., 2060,    4,    3],\n",
      "       [   5,    5,    5, ...,  140,    4,    3],\n",
      "       [   5,    5,    5, ..., 5512,    4,    3]], dtype=int32)>, 'token_type_ids': <tf.Tensor: shape=(64, 887), dtype=int32, numpy=\n",
      "array([[3, 3, 3, ..., 0, 0, 2],\n",
      "       [3, 3, 3, ..., 0, 0, 2],\n",
      "       [3, 3, 3, ..., 0, 0, 2],\n",
      "       ...,\n",
      "       [3, 3, 3, ..., 0, 0, 2],\n",
      "       [3, 3, 3, ..., 0, 0, 2],\n",
      "       [3, 3, 3, ..., 0, 0, 2]], dtype=int32)>, 'attention_mask': <tf.Tensor: shape=(64, 887), dtype=int32, numpy=\n",
      "array([[0, 0, 0, ..., 1, 1, 1],\n",
      "       [0, 0, 0, ..., 1, 1, 1],\n",
      "       [0, 0, 0, ..., 1, 1, 1],\n",
      "       ...,\n",
      "       [0, 0, 0, ..., 1, 1, 1],\n",
      "       [0, 0, 0, ..., 1, 1, 1],\n",
      "       [0, 0, 0, ..., 1, 1, 1]], dtype=int32)>} tf.Tensor(\n",
      "[1 1 0 0 0 1 0 0 0 0 1 1 1 0 0 1 1 0 0 1 1 0 0 0 1 1 1 1 0 1 1 1 1 1 0 1 0\n",
      " 0 0 1 1 0 1 1 1 1 0 1 1 1 0 0 1 0 0 0 0 0 0 0 1 1 0 1], shape=(64,), dtype=int64)\n",
      "{'input_ids': <tf.Tensor: shape=(8, 887), dtype=int32, numpy=\n",
      "array([[   5,    5,    5, ...,  583,    4,    3],\n",
      "       [   5,    5,    5, ...,  899,    4,    3],\n",
      "       [   5,    5,    5, ..., 2732,    4,    3],\n",
      "       ...,\n",
      "       [   5,    5,    5, ..., 3151,    4,    3],\n",
      "       [   5,    5,    5, ..., 2989,    4,    3],\n",
      "       [   5,    5,    5, ...,  459,    4,    3]], dtype=int32)>, 'token_type_ids': <tf.Tensor: shape=(8, 887), dtype=int32, numpy=\n",
      "array([[3, 3, 3, ..., 0, 0, 2],\n",
      "       [3, 3, 3, ..., 0, 0, 2],\n",
      "       [3, 3, 3, ..., 0, 0, 2],\n",
      "       ...,\n",
      "       [3, 3, 3, ..., 0, 0, 2],\n",
      "       [3, 3, 3, ..., 0, 0, 2],\n",
      "       [3, 3, 3, ..., 0, 0, 2]], dtype=int32)>, 'attention_mask': <tf.Tensor: shape=(8, 887), dtype=int32, numpy=\n",
      "array([[0, 0, 0, ..., 1, 1, 1],\n",
      "       [0, 0, 0, ..., 1, 1, 1],\n",
      "       [0, 0, 0, ..., 1, 1, 1],\n",
      "       ...,\n",
      "       [0, 0, 0, ..., 1, 1, 1],\n",
      "       [0, 0, 0, ..., 1, 1, 1],\n",
      "       [0, 0, 0, ..., 1, 1, 1]], dtype=int32)>} tf.Tensor([1 0 0 0 0 1 1 0], shape=(8,), dtype=int64)\n"
     ]
    }
   ],
   "source": [
    "for x, y in test_dataset:\n",
    "   print(x, y)"
   ]
  },
  {
   "cell_type": "code",
   "execution_count": 36,
   "id": "1315b6cc",
   "metadata": {},
   "outputs": [
    {
     "data": {
      "text/plain": [
       "' \\nimport tensorflow_datasets as tfds\\ntrain_dataframe = tfds.as_dataframe(train_dataset) \\ntest_dataframe = tfds.as_dataframe(test_dataset) \\n'"
      ]
     },
     "execution_count": 36,
     "metadata": {},
     "output_type": "execute_result"
    }
   ],
   "source": [
    "\"\"\" \n",
    "import tensorflow_datasets as tfds\n",
    "train_dataframe = tfds.as_dataframe(train_dataset) \n",
    "test_dataframe = tfds.as_dataframe(test_dataset) \n",
    "\"\"\""
   ]
  },
  {
   "cell_type": "code",
   "execution_count": 37,
   "id": "03d5ca75",
   "metadata": {},
   "outputs": [
    {
     "name": "stdout",
     "output_type": "stream",
     "text": [
      "{'Negative': 0, 'Positive': 1}\n"
     ]
    }
   ],
   "source": [
    "id2label = {\n",
    "    0 : 'Negative',\n",
    "    1 : 'Positive'\n",
    "}\n",
    "\n",
    "label2id = {v : k for k, v in id2label.items()}\n",
    "num_classes = len(label2id)\n",
    "print(label2id)"
   ]
  },
  {
   "cell_type": "code",
   "execution_count": 38,
   "id": "772c5fd3",
   "metadata": {},
   "outputs": [
    {
     "name": "stderr",
     "output_type": "stream",
     "text": [
      "/Users/eceokutan/Library/Python/3.9/lib/python/site-packages/keras/src/initializers/initializers.py:120: UserWarning: The initializer TruncatedNormal is unseeded and being called multiple times, which will return identical values each time (even if the initializer is unseeded). Please update your code to provide a seed to the initializer, or avoid using the same initializer instance more than once.\n",
      "  warnings.warn(\n",
      "Some layers from the model checkpoint at xlnet-base-cased were not used when initializing TFXLNetForSequenceClassification: ['lm_loss']\n",
      "- This IS expected if you are initializing TFXLNetForSequenceClassification from the checkpoint of a model trained on another task or with another architecture (e.g. initializing a BertForSequenceClassification model from a BertForPreTraining model).\n",
      "- This IS NOT expected if you are initializing TFXLNetForSequenceClassification from the checkpoint of a model that you expect to be exactly identical (initializing a BertForSequenceClassification model from a BertForSequenceClassification model).\n",
      "Some layers of TFXLNetForSequenceClassification were not initialized from the model checkpoint at xlnet-base-cased and are newly initialized: ['sequence_summary', 'logits_proj']\n",
      "You should probably TRAIN this model on a down-stream task to be able to use it for predictions and inference.\n"
     ]
    }
   ],
   "source": [
    "#cased\n",
    "from transformers import TFXLNetForSequenceClassification\n",
    "model = TFXLNetForSequenceClassification.from_pretrained(\n",
    "    \"xlnet-base-cased\",\n",
    "    num_labels = 2,\n",
    "    label2id = label2id,\n",
    "    id2label = id2label\n",
    ")\n"
   ]
  },
  {
   "cell_type": "code",
   "execution_count": 40,
   "id": "12c43038",
   "metadata": {},
   "outputs": [
    {
     "name": "stdout",
     "output_type": "stream",
     "text": [
      "<_BatchDataset element_spec=({'input_ids': TensorSpec(shape=(None, 1164), dtype=tf.int32, name=None), 'token_type_ids': TensorSpec(shape=(None, 1164), dtype=tf.int32, name=None), 'attention_mask': TensorSpec(shape=(None, 1164), dtype=tf.int32, name=None)}, TensorSpec(shape=(None,), dtype=tf.int64, name=None))>\n"
     ]
    }
   ],
   "source": [
    "\n",
    "model.compile(\n",
    "    loss = tf.keras.losses.SparseCategoricalCrossentropy(from_logits=True),\n",
    "    optimizer = tf.keras.optimizers.Adam(learning_rate=3e-5), #hyperparameter\n",
    "    metrics = [\"accuracy\"] #hyperparameter sayılır\n",
    ")\n",
    "print(train_dataset)"
   ]
  },
  {
   "cell_type": "code",
   "execution_count": 16,
   "id": "22ec9b04",
   "metadata": {},
   "outputs": [
    {
     "name": "stdout",
     "output_type": "stream",
     "text": [
      "Model: \"tfxl_net_for_sequence_classification\"\n",
      "_________________________________________________________________\n",
      " Layer (type)                Output Shape              Param #   \n",
      "=================================================================\n",
      " transformer (TFXLNetMainLa  multiple                  116718336 \n",
      " yer)                                                            \n",
      "                                                                 \n",
      " sequence_summary (TFSequen  multiple                  590592    \n",
      " ceSummary)                                                      \n",
      "                                                                 \n",
      " logits_proj (Dense)         multiple                  1538      \n",
      "                                                                 \n",
      "=================================================================\n",
      "Total params: 117310466 (447.50 MB)\n",
      "Trainable params: 117310466 (447.50 MB)\n",
      "Non-trainable params: 0 (0.00 Byte)\n",
      "_________________________________________________________________\n"
     ]
    }
   ],
   "source": [
    "model.summary()"
   ]
  },
  {
   "cell_type": "code",
   "execution_count": 41,
   "id": "34901aae",
   "metadata": {},
   "outputs": [
    {
     "name": "stdout",
     "output_type": "stream",
     "text": [
      "WARNING:tensorflow:Gradients do not exist for variables ['tfxl_net_for_sequence_classification_1/transformer/mask_emb:0'] when minimizing the loss. If you're using `model.compile()`, did you forget to provide a `loss` argument?\n",
      "WARNING:tensorflow:Gradients do not exist for variables ['tfxl_net_for_sequence_classification_1/transformer/mask_emb:0'] when minimizing the loss. If you're using `model.compile()`, did you forget to provide a `loss` argument?\n",
      "WARNING:tensorflow:Gradients do not exist for variables ['tfxl_net_for_sequence_classification_1/transformer/mask_emb:0'] when minimizing the loss. If you're using `model.compile()`, did you forget to provide a `loss` argument?\n",
      "WARNING:tensorflow:Gradients do not exist for variables ['tfxl_net_for_sequence_classification_1/transformer/mask_emb:0'] when minimizing the loss. If you're using `model.compile()`, did you forget to provide a `loss` argument?\n"
     ]
    }
   ],
   "source": [
    "EPOCHS = 1 #hyperparameter\n",
    "history = model.fit(\n",
    "    train_dataset,\n",
    "    validation_data = test_dataset,\n",
    "    epochs = EPOCHS\n",
    ")"
   ]
  },
  {
   "cell_type": "code",
   "execution_count": 16,
   "id": "d15e7b51",
   "metadata": {},
   "outputs": [
    {
     "data": {
      "text/plain": [
       "<matplotlib.legend.Legend at 0x17c89ba30>"
      ]
     },
     "execution_count": 16,
     "metadata": {},
     "output_type": "execute_result"
    },
    {
     "data": {
      "image/png": "[encoded data removed]",
      "text/plain": [
       "<Figure size 1400x500 with 2 Axes>"
      ]
     },
     "metadata": {},
     "output_type": "display_data"
    }
   ],
   "source": [
    "import matplotlib.pyplot as plt\n",
    "plt.figure(figsize = (14, 5))\n",
    "\n",
    "plt.subplot(1,2,1)\n",
    "plt.title('Loss')\n",
    "plt.plot(history.history['loss'], marker = '*', label = 'Training')\n",
    "plt.plot(history.history['val_loss'], label = 'Validation')\n",
    "plt.legend()\n",
    "\n",
    "plt.subplot(1,2,2)\n",
    "plt.title('Accuracy')\n",
    "plt.plot(history.history['accuracy'], marker = '*', label = 'Training')\n",
    "plt.plot(history.history['val_accuracy'], label = 'Validation')\n",
    "plt.legend()"
   ]
  },
  {
   "cell_type": "code",
   "execution_count": 17,
   "id": "b30bc232",
   "metadata": {},
   "outputs": [
    {
     "name": "stdout",
     "output_type": "stream",
     "text": [
      "4/4 [==============================] - 112s 25s/step\n"
     ]
    },
    {
     "data": {
      "text/plain": [
       "array([0, 0, 0, 0, 1, 1, 0, 0, 0, 0, 0, 0, 0, 0, 0, 1, 0, 0, 1, 0, 0, 1,\n",
       "       0, 1, 0, 0, 0, 0, 0, 0, 0, 0, 0, 0, 1, 0, 0, 0, 0, 0, 0, 0, 0, 0,\n",
       "       0, 0, 0, 0, 0, 0, 0, 0, 0, 0, 0, 1, 0, 0, 0, 0, 0, 1, 0, 0, 0, 0,\n",
       "       0, 1, 0, 0, 0, 0, 0, 1, 0, 0, 0, 0, 0, 0, 0, 1, 0, 0, 0, 0, 0, 0,\n",
       "       0, 0, 0, 0, 0, 0, 0, 0, 0, 0, 0, 0, 0, 0, 0, 0, 0, 0, 0, 0, 0, 0,\n",
       "       0, 0, 0, 0, 0, 0, 0, 1, 0, 0, 0, 0, 0, 0, 0, 0, 0, 0, 1, 0, 0, 0,\n",
       "       0, 0, 0, 0, 1, 0, 0, 1, 0, 1, 1, 0, 0, 0, 0, 0, 0, 0, 0, 0, 0, 0,\n",
       "       0, 0, 1, 0, 0, 0, 0, 0, 0, 0, 0, 0, 0, 1, 0, 0, 0, 0, 0, 0, 0, 0,\n",
       "       0, 0, 0, 0, 0, 0, 0, 0, 0, 0, 0, 0, 0, 0, 0, 0, 0, 0, 0, 0, 0, 0,\n",
       "       0, 0])"
      ]
     },
     "execution_count": 17,
     "metadata": {},
     "output_type": "execute_result"
    }
   ],
   "source": [
    "out = model.predict(test_dataset)\n",
    "pred = np.argmax(out[0], axis = 1)\n",
    "pred"
   ]
  },
  {
   "cell_type": "code",
   "execution_count": 18,
   "id": "191ef5ac",
   "metadata": {},
   "outputs": [
    {
     "data": {
      "image/png": "[encoded data removed]",
      "text/plain": [
       "<Figure size 1000x1000 with 2 Axes>"
      ]
     },
     "metadata": {},
     "output_type": "display_data"
    }
   ],
   "source": [
    "from sklearn.metrics import confusion_matrix\n",
    "import seaborn as sns\n",
    "cm = confusion_matrix(y_test, pred)\n",
    "plt.subplots(figsize = (10, 10))\n",
    "sns.heatmap(cm, annot = True, cmap='Reds')\n",
    "plt.show()"
   ]
  }
 ],
 "metadata": {
  "kernelspec": {
   "display_name": "Python 3",
   "language": "python",
   "name": "python3"
  },
  "language_info": {
   "codemirror_mode": {
    "name": "ipython",
    "version": 3
   },
   "file_extension": ".py",
   "mimetype": "text/x-python",
   "name": "python",
   "nbconvert_exporter": "python",
   "pygments_lexer": "ipython3",
   "version": "3.9.6"
  }
 },
 "nbformat": 4,
 "nbformat_minor": 5
}
