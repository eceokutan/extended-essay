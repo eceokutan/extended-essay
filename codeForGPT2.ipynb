{
 "cells": [
  {
   "cell_type": "code",
   "execution_count": 126,
   "id": "64eae275",
   "metadata": {},
   "outputs": [],
   "source": [
    "import numpy as np \n",
    "import pandas as pd \n",
    "import tensorflow as tf\n",
    "import sklearn\n",
    "from tqdm import tqdm\n",
    "df = pd.read_csv('moviecopy.csv')"
   ]
  },
  {
   "cell_type": "code",
   "execution_count": 127,
   "id": "b21512d2",
   "metadata": {},
   "outputs": [
    {
     "name": "stdout",
     "output_type": "stream",
     "text": [
      "0\n",
      "0\n"
     ]
    },
    {
     "data": {
      "text/html": [
       "<div>\n",
       "<style scoped>\n",
       "    .dataframe tbody tr th:only-of-type {\n",
       "        vertical-align: middle;\n",
       "    }\n",
       "\n",
       "    .dataframe tbody tr th {\n",
       "        vertical-align: top;\n",
       "    }\n",
       "\n",
       "    .dataframe thead th {\n",
       "        text-align: right;\n",
       "    }\n",
       "</style>\n",
       "<table border=\"1\" class=\"dataframe\">\n",
       "  <thead>\n",
       "    <tr style=\"text-align: right;\">\n",
       "      <th></th>\n",
       "      <th>text</th>\n",
       "      <th>label</th>\n",
       "    </tr>\n",
       "  </thead>\n",
       "  <tbody>\n",
       "    <tr>\n",
       "      <th>0</th>\n",
       "      <td>I grew up (b. 1965) watching and loving the Th...</td>\n",
       "      <td>0</td>\n",
       "    </tr>\n",
       "    <tr>\n",
       "      <th>1</th>\n",
       "      <td>When I put this movie in my DVD player, and sa...</td>\n",
       "      <td>0</td>\n",
       "    </tr>\n",
       "    <tr>\n",
       "      <th>2</th>\n",
       "      <td>Why do people who do not know what a particula...</td>\n",
       "      <td>0</td>\n",
       "    </tr>\n",
       "    <tr>\n",
       "      <th>3</th>\n",
       "      <td>Even though I have great interest in Biblical ...</td>\n",
       "      <td>0</td>\n",
       "    </tr>\n",
       "    <tr>\n",
       "      <th>4</th>\n",
       "      <td>Im a die hard Dads Army fan and nothing will e...</td>\n",
       "      <td>1</td>\n",
       "    </tr>\n",
       "  </tbody>\n",
       "</table>\n",
       "</div>"
      ],
      "text/plain": [
       "                                                text  label\n",
       "0  I grew up (b. 1965) watching and loving the Th...      0\n",
       "1  When I put this movie in my DVD player, and sa...      0\n",
       "2  Why do people who do not know what a particula...      0\n",
       "3  Even though I have great interest in Biblical ...      0\n",
       "4  Im a die hard Dads Army fan and nothing will e...      1"
      ]
     },
     "execution_count": 127,
     "metadata": {},
     "output_type": "execute_result"
    }
   ],
   "source": [
    "df.isnull().sum()\n",
    "#0 null so no need to clear null\n",
    "print(df.duplicated().sum())\n",
    "#418 duplicated, no we need to clear duplicates\n",
    "df=df.drop_duplicates() \n",
    "print(df.duplicated().sum())\n",
    "#duplicates are cleared\n",
    "df.head()"
   ]
  },
  {
   "cell_type": "code",
   "execution_count": 128,
   "id": "07612b79",
   "metadata": {},
   "outputs": [
    {
     "data": {
      "text/html": [
       "<div>\n",
       "<style scoped>\n",
       "    .dataframe tbody tr th:only-of-type {\n",
       "        vertical-align: middle;\n",
       "    }\n",
       "\n",
       "    .dataframe tbody tr th {\n",
       "        vertical-align: top;\n",
       "    }\n",
       "\n",
       "    .dataframe thead th {\n",
       "        text-align: right;\n",
       "    }\n",
       "</style>\n",
       "<table border=\"1\" class=\"dataframe\">\n",
       "  <thead>\n",
       "    <tr style=\"text-align: right;\">\n",
       "      <th></th>\n",
       "      <th>text</th>\n",
       "      <th>label</th>\n",
       "    </tr>\n",
       "  </thead>\n",
       "  <tbody>\n",
       "    <tr>\n",
       "      <th>0</th>\n",
       "      <td>i grew up  b  1965  watching and loving the th...</td>\n",
       "      <td>0</td>\n",
       "    </tr>\n",
       "    <tr>\n",
       "      <th>1</th>\n",
       "      <td>when i put this movie in my dvd player  and sa...</td>\n",
       "      <td>0</td>\n",
       "    </tr>\n",
       "    <tr>\n",
       "      <th>2</th>\n",
       "      <td>why do people who do not know what a particula...</td>\n",
       "      <td>0</td>\n",
       "    </tr>\n",
       "    <tr>\n",
       "      <th>3</th>\n",
       "      <td>even though i have great interest in biblical ...</td>\n",
       "      <td>0</td>\n",
       "    </tr>\n",
       "    <tr>\n",
       "      <th>4</th>\n",
       "      <td>im a die hard dads army fan and nothing will e...</td>\n",
       "      <td>1</td>\n",
       "    </tr>\n",
       "  </tbody>\n",
       "</table>\n",
       "</div>"
      ],
      "text/plain": [
       "                                                text  label\n",
       "0  i grew up  b  1965  watching and loving the th...      0\n",
       "1  when i put this movie in my dvd player  and sa...      0\n",
       "2  why do people who do not know what a particula...      0\n",
       "3  even though i have great interest in biblical ...      0\n",
       "4  im a die hard dads army fan and nothing will e...      1"
      ]
     },
     "execution_count": 128,
     "metadata": {},
     "output_type": "execute_result"
    }
   ],
   "source": [
    "import re\n",
    "def stringClear(text):\n",
    "    cleanText = re.sub(r'[!,.\"\"?''()]',' ',text)\n",
    "    return cleanText\n",
    "\n",
    "df['text'] = df['text'].apply(stringClear)\n",
    "df['text'] = df['text'].apply(lambda x: x.lower())\n",
    "df.head()"
   ]
  },
  {
   "cell_type": "code",
   "execution_count": 129,
   "id": "8d8fde40",
   "metadata": {},
   "outputs": [
    {
     "name": "stderr",
     "output_type": "stream",
     "text": [
      "[nltk_data] Downloading package stopwords to\n",
      "[nltk_data]     C:\\Users\\burha\\AppData\\Roaming\\nltk_data...\n",
      "[nltk_data]   Package stopwords is already up-to-date!\n"
     ]
    },
    {
     "data": {
      "text/html": [
       "<div>\n",
       "<style scoped>\n",
       "    .dataframe tbody tr th:only-of-type {\n",
       "        vertical-align: middle;\n",
       "    }\n",
       "\n",
       "    .dataframe tbody tr th {\n",
       "        vertical-align: top;\n",
       "    }\n",
       "\n",
       "    .dataframe thead th {\n",
       "        text-align: right;\n",
       "    }\n",
       "</style>\n",
       "<table border=\"1\" class=\"dataframe\">\n",
       "  <thead>\n",
       "    <tr style=\"text-align: right;\">\n",
       "      <th></th>\n",
       "      <th>text</th>\n",
       "      <th>label</th>\n",
       "    </tr>\n",
       "  </thead>\n",
       "  <tbody>\n",
       "    <tr>\n",
       "      <th>0</th>\n",
       "      <td>grew b 1965 watching loving thunderbirds mates...</td>\n",
       "      <td>0</td>\n",
       "    </tr>\n",
       "    <tr>\n",
       "      <th>1</th>\n",
       "      <td>put movie dvd player sat coke chips expectatio...</td>\n",
       "      <td>0</td>\n",
       "    </tr>\n",
       "    <tr>\n",
       "      <th>2</th>\n",
       "      <td>people know particular time past like feel nee...</td>\n",
       "      <td>0</td>\n",
       "    </tr>\n",
       "    <tr>\n",
       "      <th>3</th>\n",
       "      <td>even though great interest biblical movies bor...</td>\n",
       "      <td>0</td>\n",
       "    </tr>\n",
       "    <tr>\n",
       "      <th>4</th>\n",
       "      <td>im die hard dads army fan nothing ever change ...</td>\n",
       "      <td>1</td>\n",
       "    </tr>\n",
       "    <tr>\n",
       "      <th>5</th>\n",
       "      <td>terrible movie everyone said made laugh cameo ...</td>\n",
       "      <td>0</td>\n",
       "    </tr>\n",
       "    <tr>\n",
       "      <th>6</th>\n",
       "      <td>finally watched shocking movie last night dist...</td>\n",
       "      <td>1</td>\n",
       "    </tr>\n",
       "    <tr>\n",
       "      <th>7</th>\n",
       "      <td>caught film azn cable sounded like would good ...</td>\n",
       "      <td>0</td>\n",
       "    </tr>\n",
       "    <tr>\n",
       "      <th>8</th>\n",
       "      <td>may remake 1987 autumn's tale eleven years dir...</td>\n",
       "      <td>1</td>\n",
       "    </tr>\n",
       "  </tbody>\n",
       "</table>\n",
       "</div>"
      ],
      "text/plain": [
       "                                                text  label\n",
       "0  grew b 1965 watching loving thunderbirds mates...      0\n",
       "1  put movie dvd player sat coke chips expectatio...      0\n",
       "2  people know particular time past like feel nee...      0\n",
       "3  even though great interest biblical movies bor...      0\n",
       "4  im die hard dads army fan nothing ever change ...      1\n",
       "5  terrible movie everyone said made laugh cameo ...      0\n",
       "6  finally watched shocking movie last night dist...      1\n",
       "7  caught film azn cable sounded like would good ...      0\n",
       "8  may remake 1987 autumn's tale eleven years dir...      1"
      ]
     },
     "execution_count": 129,
     "metadata": {},
     "output_type": "execute_result"
    }
   ],
   "source": [
    "import nltk\n",
    "nltk.download('stopwords')\n",
    "from nltk.corpus import stopwords\n",
    "stopWordList = stopwords.words(\"english\")\n",
    "\n",
    "df['text'] = df['text'].apply(lambda x: [item for item in x.split() if item not in stopWordList]).apply(lambda x:\" \".join(x))\n",
    "#unnecessary words are eliminated\n",
    "df.head(10)"
   ]
  },
  {
   "cell_type": "code",
   "execution_count": 130,
   "id": "bc1f5a45",
   "metadata": {},
   "outputs": [],
   "source": [
    "\n",
    "def catAsNum(val):\n",
    "    if val==\"positive\":\n",
    "        return 1\n",
    "    else:\n",
    "        return 0\n",
    "df['label']  =  df['label'].apply(catAsNum)"
   ]
  },
  {
   "cell_type": "code",
   "execution_count": 131,
   "id": "33b7d4fd",
   "metadata": {},
   "outputs": [],
   "source": [
    "x = df[\"text\"].values\n",
    "y = df[\"label\"].values"
   ]
  },
  {
   "cell_type": "code",
   "execution_count": 132,
   "id": "23ed02b0",
   "metadata": {},
   "outputs": [
    {
     "name": "stdout",
     "output_type": "stream",
     "text": [
      "(7,)\n",
      "(2,)\n",
      "(7,)\n",
      "(2,)\n"
     ]
    }
   ],
   "source": [
    "from sklearn.model_selection import train_test_split\n",
    "x_train,x_test,y_train,y_test = train_test_split(x,y,test_size=0.2) \n",
    "print(x_train.shape)\n",
    "print(x_test.shape)\n",
    "print(y_train.shape)\n",
    "print(y_test.shape)\n"
   ]
  },
  {
   "cell_type": "code",
   "execution_count": 133,
   "id": "5d5a74eb",
   "metadata": {},
   "outputs": [
    {
     "data": {
      "text/plain": [
       "7"
      ]
     },
     "execution_count": 133,
     "metadata": {},
     "output_type": "execute_result"
    }
   ],
   "source": [
    "len(x_train)"
   ]
  },
  {
   "cell_type": "code",
   "execution_count": 134,
   "id": "ead9516e",
   "metadata": {},
   "outputs": [],
   "source": [
    "from transformers import AutoTokenizer\n",
    "tokenizer = AutoTokenizer.from_pretrained(\"gpt2\")\n",
    "tokenizer.pad_token = tokenizer.eos_token \n"
   ]
  },
  {
   "cell_type": "code",
   "execution_count": 135,
   "id": "0463b8ae",
   "metadata": {},
   "outputs": [
    {
     "data": {
      "text/plain": [
       "'\\ntokenizer(list(x_train))\\ntokenizer(x_train)\\ntokenizer(list(x_train))[\"input_ids\"]\\ntokenizer(list(x_train),padding = \"max_length\")\\ntokenizer(list(x_train),padding = \"max_length\")\\n'"
      ]
     },
     "execution_count": 135,
     "metadata": {},
     "output_type": "execute_result"
    }
   ],
   "source": [
    "'''\n",
    "tokenizer(list(x_train))\n",
    "tokenizer(x_train)\n",
    "tokenizer(list(x_train))[\"input_ids\"]\n",
    "tokenizer(list(x_train),padding = \"max_length\")\n",
    "tokenizer(list(x_train),padding = \"max_length\")\n",
    "'''"
   ]
  },
  {
   "cell_type": "code",
   "execution_count": 136,
   "id": "e4822871",
   "metadata": {},
   "outputs": [],
   "source": [
    "train_encodings = tokenizer(list(x_train), padding = \"max_length\", truncation=True)\n",
    "test_encodings = tokenizer(list(x_test), padding = \"max_length\", truncation=True)\n"
   ]
  },
  {
   "cell_type": "code",
   "execution_count": 137,
   "id": "a8b1cbbf",
   "metadata": {},
   "outputs": [
    {
     "data": {
      "text/plain": [
       "7"
      ]
     },
     "execution_count": 137,
     "metadata": {},
     "output_type": "execute_result"
    }
   ],
   "source": [
    "len(train_encodings[\"input_ids\"])\n"
   ]
  },
  {
   "cell_type": "code",
   "execution_count": 138,
   "id": "4d790cb1",
   "metadata": {},
   "outputs": [],
   "source": [
    "BATCHSIZE = 2"
   ]
  },
  {
   "cell_type": "code",
   "execution_count": 139,
   "id": "648b644e",
   "metadata": {},
   "outputs": [
    {
     "name": "stdout",
     "output_type": "stream",
     "text": [
      "4 \n",
      " ({'input_ids': <tf.Tensor: shape=(1024,), dtype=int32, numpy=array([11261, 28763, 12923, ..., 50256, 50256, 50256])>, 'attention_mask': <tf.Tensor: shape=(1024,), dtype=int32, numpy=array([1, 1, 1, ..., 0, 0, 0])>}, <tf.Tensor: shape=(), dtype=int64, numpy=0>) \n",
      "\n",
      "4 \n",
      " ({'input_ids': <tf.Tensor: shape=(1024,), dtype=int32, numpy=array([   69,  3289,  7342, ..., 50256, 50256, 50256])>, 'attention_mask': <tf.Tensor: shape=(1024,), dtype=int32, numpy=array([1, 1, 1, ..., 0, 0, 0])>}, <tf.Tensor: shape=(), dtype=int64, numpy=0>) \n",
      "\n",
      "4 \n",
      " ({'input_ids': <tf.Tensor: shape=(1024,), dtype=int32, numpy=array([ 1996,  3807,   288, ..., 50256, 50256, 50256])>, 'attention_mask': <tf.Tensor: shape=(1024,), dtype=int32, numpy=array([1, 1, 1, ..., 0, 0, 0])>}, <tf.Tensor: shape=(), dtype=int64, numpy=0>) \n",
      "\n",
      "4 \n",
      " ({'input_ids': <tf.Tensor: shape=(1024,), dtype=int32, numpy=array([15332,   760,  1948, ..., 50256, 50256, 50256])>, 'attention_mask': <tf.Tensor: shape=(1024,), dtype=int32, numpy=array([1, 1, 1, ..., 0, 0, 0])>}, <tf.Tensor: shape=(), dtype=int64, numpy=0>) \n",
      "\n",
      "4 \n",
      " ({'input_ids': <tf.Tensor: shape=(1024,), dtype=int32, numpy=array([  353,  5547,  3807, ..., 50256, 50256, 50256])>, 'attention_mask': <tf.Tensor: shape=(1024,), dtype=int32, numpy=array([1, 1, 1, ..., 0, 0, 0])>}, <tf.Tensor: shape=(), dtype=int64, numpy=0>) \n",
      "\n",
      "4 \n",
      " ({'input_ids': <tf.Tensor: shape=(1024,), dtype=int32, numpy=array([   70,  1809,   275, ..., 50256, 50256, 50256])>, 'attention_mask': <tf.Tensor: shape=(1024,), dtype=int32, numpy=array([1, 1, 1, ..., 0, 0, 0])>}, <tf.Tensor: shape=(), dtype=int64, numpy=0>) \n",
      "\n",
      "4 \n",
      " ({'input_ids': <tf.Tensor: shape=(1024,), dtype=int32, numpy=array([10197,   996,  1049, ..., 50256, 50256, 50256])>, 'attention_mask': <tf.Tensor: shape=(1024,), dtype=int32, numpy=array([1, 1, 1, ..., 0, 0, 0])>}, <tf.Tensor: shape=(), dtype=int64, numpy=0>) \n",
      "\n"
     ]
    }
   ],
   "source": [
    "\n",
    "# dict(train_encodings), batch()\n",
    "train_dataset = tf.data.Dataset.from_tensor_slices((\n",
    "   train_encodings,y_train\n",
    "))\n",
    "for element in train_dataset:\n",
    "  print(index,\"\\n\",element,\"\\n\")"
   ]
  },
  {
   "cell_type": "code",
   "execution_count": 140,
   "id": "f9388f92",
   "metadata": {},
   "outputs": [],
   "source": [
    "\n",
    "test_dataset = tf.data.Dataset.from_tensor_slices((\n",
    "    test_encodings,\n",
    "    y_test\n",
    "))\n",
    "for element in test_dataset:\n",
    "  print(index,\"\\n\",element,\"\\n\")"
   ]
  },
  {
   "cell_type": "code",
   "execution_count": 141,
   "id": "f8293b91",
   "metadata": {},
   "outputs": [
    {
     "name": "stdout",
     "output_type": "stream",
     "text": [
      "{'input_ids': <tf.Tensor: shape=(1024,), dtype=int32, numpy=array([11261, 28763, 12923, ..., 50256, 50256, 50256])>, 'attention_mask': <tf.Tensor: shape=(1024,), dtype=int32, numpy=array([1, 1, 1, ..., 0, 0, 0])>} tf.Tensor(0, shape=(), dtype=int64)\n",
      "{'input_ids': <tf.Tensor: shape=(1024,), dtype=int32, numpy=array([   69,  3289,  7342, ..., 50256, 50256, 50256])>, 'attention_mask': <tf.Tensor: shape=(1024,), dtype=int32, numpy=array([1, 1, 1, ..., 0, 0, 0])>} tf.Tensor(0, shape=(), dtype=int64)\n",
      "{'input_ids': <tf.Tensor: shape=(1024,), dtype=int32, numpy=array([ 1996,  3807,   288, ..., 50256, 50256, 50256])>, 'attention_mask': <tf.Tensor: shape=(1024,), dtype=int32, numpy=array([1, 1, 1, ..., 0, 0, 0])>} tf.Tensor(0, shape=(), dtype=int64)\n",
      "{'input_ids': <tf.Tensor: shape=(1024,), dtype=int32, numpy=array([15332,   760,  1948, ..., 50256, 50256, 50256])>, 'attention_mask': <tf.Tensor: shape=(1024,), dtype=int32, numpy=array([1, 1, 1, ..., 0, 0, 0])>} tf.Tensor(0, shape=(), dtype=int64)\n",
      "{'input_ids': <tf.Tensor: shape=(1024,), dtype=int32, numpy=array([  353,  5547,  3807, ..., 50256, 50256, 50256])>, 'attention_mask': <tf.Tensor: shape=(1024,), dtype=int32, numpy=array([1, 1, 1, ..., 0, 0, 0])>} tf.Tensor(0, shape=(), dtype=int64)\n",
      "{'input_ids': <tf.Tensor: shape=(1024,), dtype=int32, numpy=array([   70,  1809,   275, ..., 50256, 50256, 50256])>, 'attention_mask': <tf.Tensor: shape=(1024,), dtype=int32, numpy=array([1, 1, 1, ..., 0, 0, 0])>} tf.Tensor(0, shape=(), dtype=int64)\n",
      "{'input_ids': <tf.Tensor: shape=(1024,), dtype=int32, numpy=array([10197,   996,  1049, ..., 50256, 50256, 50256])>, 'attention_mask': <tf.Tensor: shape=(1024,), dtype=int32, numpy=array([1, 1, 1, ..., 0, 0, 0])>} tf.Tensor(0, shape=(), dtype=int64)\n"
     ]
    }
   ],
   "source": [
    "for x, y in train_dataset:\n",
    "   print(x, y)"
   ]
  },
  {
   "cell_type": "code",
   "execution_count": 142,
   "id": "1315b6cc",
   "metadata": {},
   "outputs": [
    {
     "data": {
      "text/plain": [
       "' \\nimport tensorflow_datasets as tfds\\ntrain_dataframe = tfds.as_dataframe(train_dataset) \\ntest_dataframe = tfds.as_dataframe(test_dataset) \\n'"
      ]
     },
     "execution_count": 142,
     "metadata": {},
     "output_type": "execute_result"
    }
   ],
   "source": [
    "\"\"\" \n",
    "import tensorflow_datasets as tfds\n",
    "train_dataframe = tfds.as_dataframe(train_dataset) \n",
    "test_dataframe = tfds.as_dataframe(test_dataset) \n",
    "\"\"\""
   ]
  },
  {
   "cell_type": "code",
   "execution_count": 143,
   "id": "03d5ca75",
   "metadata": {},
   "outputs": [
    {
     "name": "stdout",
     "output_type": "stream",
     "text": [
      "{'Negative': 0, 'Positive': 1}\n"
     ]
    }
   ],
   "source": [
    "id2label = {\n",
    "    0 : 'Negative',\n",
    "    1 : 'Positive'\n",
    "}\n",
    "\n",
    "label2id = {v : k for k, v in id2label.items()}\n",
    "num_classes = len(label2id)\n",
    "print(label2id)"
   ]
  },
  {
   "cell_type": "code",
   "execution_count": 144,
   "id": "772c5fd3",
   "metadata": {},
   "outputs": [
    {
     "name": "stderr",
     "output_type": "stream",
     "text": [
      "All PyTorch model weights were used when initializing TFGPT2ForSequenceClassification.\n",
      "\n",
      "Some weights or buffers of the TF 2.0 model TFGPT2ForSequenceClassification were not initialized from the PyTorch model and are newly initialized: ['score.weight']\n",
      "You should probably TRAIN this model on a down-stream task to be able to use it for predictions and inference.\n"
     ]
    }
   ],
   "source": [
    "from transformers import TFAutoModelForSequenceClassification\n",
    "model = TFAutoModelForSequenceClassification.from_pretrained(\n",
    "    \"gpt2\",\n",
    "    num_labels = 2,\n",
    "    label2id = label2id,\n",
    "    id2label = id2label)\n",
    "\n",
    "model.compile(\n",
    "    loss = tf.keras.losses.SparseCategoricalCrossentropy(from_logits=True),\n",
    "    optimizer = tf.keras.optimizers.Adam(learning_rate=3e-5), #hyperparameter\n",
    "    metrics = [\"accuracy\"] #hyperparameter sayılır\n",
    ")"
   ]
  },
  {
   "cell_type": "code",
   "execution_count": 145,
   "id": "22ec9b04",
   "metadata": {},
   "outputs": [
    {
     "name": "stdout",
     "output_type": "stream",
     "text": [
      "Model: \"tfgpt2_for_sequence_classification_4\"\n",
      "_________________________________________________________________\n",
      " Layer (type)                Output Shape              Param #   \n",
      "=================================================================\n",
      " score (Dense)               multiple                  1536      \n",
      "                                                                 \n",
      " transformer (TFGPT2MainLay  multiple                  124439808 \n",
      " er)                                                             \n",
      "                                                                 \n",
      "=================================================================\n",
      "Total params: 124441344 (474.71 MB)\n",
      "Trainable params: 124441344 (474.71 MB)\n",
      "Non-trainable params: 0 (0.00 Byte)\n",
      "_________________________________________________________________\n"
     ]
    }
   ],
   "source": [
    "model.summary()"
   ]
  },
  {
   "cell_type": "code",
   "execution_count": 146,
   "id": "34901aae",
   "metadata": {},
   "outputs": [
    {
     "name": "stdout",
     "output_type": "stream",
     "text": [
      "({'input_ids': <tf.Tensor: shape=(1024,), dtype=int32, numpy=array([11261, 28763, 12923, ..., 50256, 50256, 50256])>, 'attention_mask': <tf.Tensor: shape=(1024,), dtype=int32, numpy=array([1, 1, 1, ..., 0, 0, 0])>}, <tf.Tensor: shape=(), dtype=int64, numpy=0>)\n",
      "({'input_ids': <tf.Tensor: shape=(1024,), dtype=int32, numpy=array([   69,  3289,  7342, ..., 50256, 50256, 50256])>, 'attention_mask': <tf.Tensor: shape=(1024,), dtype=int32, numpy=array([1, 1, 1, ..., 0, 0, 0])>}, <tf.Tensor: shape=(), dtype=int64, numpy=0>)\n",
      "({'input_ids': <tf.Tensor: shape=(1024,), dtype=int32, numpy=array([ 1996,  3807,   288, ..., 50256, 50256, 50256])>, 'attention_mask': <tf.Tensor: shape=(1024,), dtype=int32, numpy=array([1, 1, 1, ..., 0, 0, 0])>}, <tf.Tensor: shape=(), dtype=int64, numpy=0>)\n",
      "({'input_ids': <tf.Tensor: shape=(1024,), dtype=int32, numpy=array([15332,   760,  1948, ..., 50256, 50256, 50256])>, 'attention_mask': <tf.Tensor: shape=(1024,), dtype=int32, numpy=array([1, 1, 1, ..., 0, 0, 0])>}, <tf.Tensor: shape=(), dtype=int64, numpy=0>)\n",
      "({'input_ids': <tf.Tensor: shape=(1024,), dtype=int32, numpy=array([  353,  5547,  3807, ..., 50256, 50256, 50256])>, 'attention_mask': <tf.Tensor: shape=(1024,), dtype=int32, numpy=array([1, 1, 1, ..., 0, 0, 0])>}, <tf.Tensor: shape=(), dtype=int64, numpy=0>)\n",
      "({'input_ids': <tf.Tensor: shape=(1024,), dtype=int32, numpy=array([   70,  1809,   275, ..., 50256, 50256, 50256])>, 'attention_mask': <tf.Tensor: shape=(1024,), dtype=int32, numpy=array([1, 1, 1, ..., 0, 0, 0])>}, <tf.Tensor: shape=(), dtype=int64, numpy=0>)\n",
      "({'input_ids': <tf.Tensor: shape=(1024,), dtype=int32, numpy=array([10197,   996,  1049, ..., 50256, 50256, 50256])>, 'attention_mask': <tf.Tensor: shape=(1024,), dtype=int32, numpy=array([1, 1, 1, ..., 0, 0, 0])>}, <tf.Tensor: shape=(), dtype=int64, numpy=0>)\n",
      "({'input_ids': <tf.Tensor: shape=(1024,), dtype=int32, numpy=array([  320,  4656,  1327, ..., 50256, 50256, 50256])>, 'attention_mask': <tf.Tensor: shape=(1024,), dtype=int32, numpy=array([1, 1, 1, ..., 0, 0, 0])>}, <tf.Tensor: shape=(), dtype=int64, numpy=0>)\n",
      "({'input_ids': <tf.Tensor: shape=(1024,), dtype=int32, numpy=array([   66,  3413,  2646, ..., 50256, 50256, 50256])>, 'attention_mask': <tf.Tensor: shape=(1024,), dtype=int32, numpy=array([1, 1, 1, ..., 0, 0, 0])>}, <tf.Tensor: shape=(), dtype=int64, numpy=0>)\n",
      "Unexpected exception formatting exception. Falling back to standard exception\n"
     ]
    },
    {
     "name": "stderr",
     "output_type": "stream",
     "text": [
      "Traceback (most recent call last):\n",
      "  File \"c:\\Users\\burha\\miniconda3\\envs\\eceOkutan\\Lib\\site-packages\\IPython\\core\\interactiveshell.py\", line 3508, in run_code\n",
      "    exec(code_obj, self.user_global_ns, self.user_ns)\n",
      "  File \"C:\\Users\\burha\\AppData\\Local\\Temp\\ipykernel_9964\\397985101.py\", line 6, in <module>\n",
      "    history = model.fit(\n",
      "              ^^^^^^^^^^\n",
      "  File \"C:\\Users\\burha\\AppData\\Roaming\\Python\\Python311\\site-packages\\keras\\src\\utils\\traceback_utils.py\", line 70, in error_handler\n",
      "    raise e.with_traceback(filtered_tb) from None\n",
      "  File \"C:\\Users\\burha\\AppData\\Roaming\\Python\\Python311\\site-packages\\keras\\src\\utils\\traceback_utils.py\", line 67, in error_handler\n",
      "    filtered_tb = _process_traceback_frames(e.__traceback__)\n",
      "                  ^^^^^^^^^^^^^^^^^^^^^^^^^^^^^^^^^^^^^^^^^^\n",
      "TypeError: Model.fit() got an unexpected keyword argument 'train_dataset'\n",
      "\n",
      "During handling of the above exception, another exception occurred:\n",
      "\n",
      "Traceback (most recent call last):\n",
      "  File \"c:\\Users\\burha\\miniconda3\\envs\\eceOkutan\\Lib\\site-packages\\IPython\\core\\interactiveshell.py\", line 2105, in showtraceback\n",
      "    stb = self.InteractiveTB.structured_traceback(\n",
      "          ^^^^^^^^^^^^^^^^^^^^^^^^^^^^^^^^^^^^^^^^\n",
      "  File \"c:\\Users\\burha\\miniconda3\\envs\\eceOkutan\\Lib\\site-packages\\IPython\\core\\ultratb.py\", line 1428, in structured_traceback\n",
      "    return FormattedTB.structured_traceback(\n",
      "           ^^^^^^^^^^^^^^^^^^^^^^^^^^^^^^^^^\n",
      "  File \"c:\\Users\\burha\\miniconda3\\envs\\eceOkutan\\Lib\\site-packages\\IPython\\core\\ultratb.py\", line 1319, in structured_traceback\n",
      "    return VerboseTB.structured_traceback(\n",
      "           ^^^^^^^^^^^^^^^^^^^^^^^^^^^^^^^\n",
      "  File \"c:\\Users\\burha\\miniconda3\\envs\\eceOkutan\\Lib\\site-packages\\IPython\\core\\ultratb.py\", line 1172, in structured_traceback\n",
      "    formatted_exception = self.format_exception_as_a_whole(etype, evalue, etb, number_of_lines_of_context,\n",
      "                          ^^^^^^^^^^^^^^^^^^^^^^^^^^^^^^^^^^^^^^^^^^^^^^^^^^^^^^^^^^^^^^^^^^^^^^^^^^^^^^^^\n",
      "  File \"c:\\Users\\burha\\miniconda3\\envs\\eceOkutan\\Lib\\site-packages\\IPython\\core\\ultratb.py\", line 1062, in format_exception_as_a_whole\n",
      "    self.get_records(etb, number_of_lines_of_context, tb_offset) if etb else []\n",
      "    ^^^^^^^^^^^^^^^^^^^^^^^^^^^^^^^^^^^^^^^^^^^^^^^^^^^^^^^^^^^^\n",
      "  File \"c:\\Users\\burha\\miniconda3\\envs\\eceOkutan\\Lib\\site-packages\\IPython\\core\\ultratb.py\", line 1159, in get_records\n",
      "    res = list(stack_data.FrameInfo.stack_data(etb, options=options))[tb_offset:]\n",
      "          ^^^^^^^^^^^^^^^^^^^^^^^^^^^^^^^^^^^^^^^^^^^^^^^^^^^^^^^^^^^\n",
      "  File \"c:\\Users\\burha\\miniconda3\\envs\\eceOkutan\\Lib\\site-packages\\stack_data\\core.py\", line 597, in stack_data\n",
      "    yield from collapse_repeated(\n",
      "  File \"c:\\Users\\burha\\miniconda3\\envs\\eceOkutan\\Lib\\site-packages\\stack_data\\utils.py\", line 83, in collapse_repeated\n",
      "    yield from map(mapper, original_group)\n",
      "  File \"c:\\Users\\burha\\miniconda3\\envs\\eceOkutan\\Lib\\site-packages\\stack_data\\core.py\", line 587, in mapper\n",
      "    return cls(f, options)\n",
      "           ^^^^^^^^^^^^^^^\n",
      "  File \"c:\\Users\\burha\\miniconda3\\envs\\eceOkutan\\Lib\\site-packages\\stack_data\\core.py\", line 551, in __init__\n",
      "    self.executing = Source.executing(frame_or_tb)\n",
      "                     ^^^^^^^^^^^^^^^^^^^^^^^^^^^^^\n",
      "  File \"c:\\Users\\burha\\miniconda3\\envs\\eceOkutan\\Lib\\site-packages\\executing\\executing.py\", line 378, in executing\n",
      "    assert_(new_stmts <= stmts)\n",
      "  File \"c:\\Users\\burha\\miniconda3\\envs\\eceOkutan\\Lib\\site-packages\\executing\\executing.py\", line 154, in assert_\n",
      "    raise AssertionError(str(message))\n",
      "AssertionError\n"
     ]
    }
   ],
   "source": [
    "\n",
    "for element in train_dataset:  \n",
    "  print(element)\n",
    "for element in test_dataset:  \n",
    "  print(element)\n",
    "EPOCHS = 1 #hyperparameter\n",
    "history = model.fit(\n",
    "    train_dataset= train_dataset,\n",
    "    validation_data = test_dataset,\n",
    "    epochs = EPOCHS\n",
    ")"
   ]
  },
  {
   "cell_type": "code",
   "execution_count": 147,
   "id": "d15e7b51",
   "metadata": {},
   "outputs": [
    {
     "ename": "ModuleNotFoundError",
     "evalue": "No module named 'matplotlib'",
     "output_type": "error",
     "traceback": [
      "\u001b[1;31m---------------------------------------------------------------------------\u001b[0m",
      "\u001b[1;31mModuleNotFoundError\u001b[0m                       Traceback (most recent call last)",
      "Cell \u001b[1;32mIn[147], line 1\u001b[0m\n\u001b[1;32m----> 1\u001b[0m \u001b[39mimport\u001b[39;00m \u001b[39mmatplotlib\u001b[39;00m\u001b[39m.\u001b[39;00m\u001b[39mpyplot\u001b[39;00m \u001b[39mas\u001b[39;00m \u001b[39mplt\u001b[39;00m\n\u001b[0;32m      2\u001b[0m plt\u001b[39m.\u001b[39mfigure(figsize \u001b[39m=\u001b[39m (\u001b[39m14\u001b[39m, \u001b[39m5\u001b[39m))\n\u001b[0;32m      4\u001b[0m plt\u001b[39m.\u001b[39msubplot(\u001b[39m1\u001b[39m,\u001b[39m2\u001b[39m,\u001b[39m1\u001b[39m)\n",
      "\u001b[1;31mModuleNotFoundError\u001b[0m: No module named 'matplotlib'"
     ]
    }
   ],
   "source": [
    "import matplotlib.pyplot as plt\n",
    "plt.figure(figsize = (14, 5))\n",
    "\n",
    "plt.subplot(1,2,1)\n",
    "plt.title('Loss')\n",
    "plt.plot(history.history['loss'], marker = '*', label = 'Training')\n",
    "plt.plot(history.history['val_loss'], label = 'Validation')\n",
    "plt.legend()\n",
    "\n",
    "plt.subplot(1,2,2)\n",
    "plt.title('Accuracy')\n",
    "plt.plot(history.history['accuracy'], marker = '*', label = 'Training')\n",
    "plt.plot(history.history['val_accuracy'], label = 'Validation')\n",
    "plt.legend()"
   ]
  },
  {
   "cell_type": "code",
   "execution_count": null,
   "id": "b30bc232",
   "metadata": {},
   "outputs": [
    {
     "name": "stdout",
     "output_type": "stream",
     "text": [
      "1/1 [==============================] - 4s 4s/step\n"
     ]
    },
    {
     "data": {
      "text/plain": [
       "array([1, 1])"
      ]
     },
     "execution_count": 16,
     "metadata": {},
     "output_type": "execute_result"
    }
   ],
   "source": [
    "out = model.predict(test_dataset)\n",
    "pred = np.argmax(out[0], axis = 1)\n",
    "pred"
   ]
  },
  {
   "cell_type": "code",
   "execution_count": null,
   "id": "191ef5ac",
   "metadata": {},
   "outputs": [
    {
     "data": {
      "image/png": "[encoded data removed]",
      "text/plain": [
       "<Figure size 1000x1000 with 2 Axes>"
      ]
     },
     "metadata": {},
     "output_type": "display_data"
    }
   ],
   "source": [
    "from sklearn.metrics import confusion_matrix\n",
    "import seaborn as sns\n",
    "cm = confusion_matrix(y_test, pred)\n",
    "plt.subplots(figsize = (10, 10))\n",
    "sns.heatmap(cm, annot = True, cmap='Reds')\n",
    "plt.show()"
   ]
  }
 ],
 "metadata": {
  "kernelspec": {
   "display_name": "Python 3",
   "language": "python",
   "name": "python3"
  },
  "language_info": {
   "codemirror_mode": {
    "name": "ipython",
    "version": 3
   },
   "file_extension": ".py",
   "mimetype": "text/x-python",
   "name": "python",
   "nbconvert_exporter": "python",
   "pygments_lexer": "ipython3",
   "version": "3.11.4"
  }
 },
 "nbformat": 4,
 "nbformat_minor": 5
}
